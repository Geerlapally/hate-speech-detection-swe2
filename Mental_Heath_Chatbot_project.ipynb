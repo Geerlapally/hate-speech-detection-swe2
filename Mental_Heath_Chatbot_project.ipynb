{
  "nbformat": 4,
  "nbformat_minor": 0,
  "metadata": {
    "colab": {
      "provenance": [],
      "gpuType": "T4",
      "authorship_tag": "ABX9TyNEkpOQph/J9B3sWAiocu5I",
      "include_colab_link": true
    },
    "kernelspec": {
      "name": "python3",
      "display_name": "Python 3"
    },
    "language_info": {
      "name": "python"
    },
    "accelerator": "GPU"
  },
  "cells": [
    {
      "cell_type": "markdown",
      "metadata": {
        "id": "view-in-github",
        "colab_type": "text"
      },
      "source": [
        "<a href=\"https://colab.research.google.com/github/Geerlapally/hate-speech-detection-swe2/blob/main/Mental_Heath_Chatbot_project.ipynb\" target=\"_parent\"><img src=\"https://colab.research.google.com/assets/colab-badge.svg\" alt=\"Open In Colab\"/></a>"
      ]
    },
    {
      "cell_type": "code",
      "execution_count": null,
      "metadata": {
        "id": "3jJgkxpK0hul"
      },
      "outputs": [],
      "source": [
        "from google.colab import files\n",
        "uploaded = files.upload()"
      ]
    },
    {
      "cell_type": "code",
      "source": [
        "import zipfile\n",
        "import os\n",
        "\n",
        "# Write uploaded file to disk\n",
        "file_name = list(uploaded.keys())[0]\n",
        "with open(file_name, 'wb') as f:\n",
        "    f.write(uploaded[file_name])\n",
        "\n",
        "# Unzip\n",
        "with zipfile.ZipFile(file_name, 'r') as zip_ref:\n",
        "    zip_ref.extractall(\"chatbot\")\n",
        "\n",
        "# Change working directory\n",
        "os.chdir(\"chatbot\")"
      ],
      "metadata": {
        "id": "p5srjZvG04s0"
      },
      "execution_count": null,
      "outputs": []
    },
    {
      "cell_type": "code",
      "source": [
        "!pip install transformers datasets scikit-learn pandas numpy streamlit deep-translator SpeechRecognition pyttsx3 fsspec aiohttp\n"
      ],
      "metadata": {
        "id": "FC4CXB1s1P-3"
      },
      "execution_count": null,
      "outputs": []
    },
    {
      "cell_type": "code",
      "source": [
        "from google.colab import files\n",
        "files.upload()\n"
      ],
      "metadata": {
        "id": "oOJXFXaU1ZEZ"
      },
      "execution_count": null,
      "outputs": []
    },
    {
      "cell_type": "code",
      "source": [
        "!ls\n"
      ],
      "metadata": {
        "id": "cX09GCPw3xOQ"
      },
      "execution_count": null,
      "outputs": []
    },
    {
      "cell_type": "code",
      "source": [
        "!pip install -U transformers\n",
        "!pip install numpy==1.26.4"
      ],
      "metadata": {
        "id": "TLNXOxCa4mJu"
      },
      "execution_count": null,
      "outputs": []
    },
    {
      "cell_type": "code",
      "source": [
        "# @title\n",
        "!python3 train_disorder.py\n",
        "\n",
        "\n"
      ],
      "metadata": {
        "id": "0mm8Ik5L6OcL"
      },
      "execution_count": null,
      "outputs": []
    },
    {
      "cell_type": "code",
      "metadata": {
        "id": "dd3dc487"
      },
      "source": [
        "# @title\n",
        "!python3 train_disorder.py"
      ],
      "execution_count": null,
      "outputs": []
    },
    {
      "cell_type": "code",
      "source": [
        "!python3 disorder_predictor.py"
      ],
      "metadata": {
        "id": "mP65EInvFrmx"
      },
      "execution_count": null,
      "outputs": []
    },
    {
      "cell_type": "code",
      "source": [
        "# test_disorder.py\n",
        "\n",
        "from disorder_predictor import predict_disorder\n",
        "\n",
        "sample_text = \"I constantly feel sad and tired. Nothing excites me anymore.\"\n",
        "disorder, confidence = predict_disorder(sample_text)\n",
        "\n",
        "print(\"Predicted Disorder:\", disorder)\n",
        "print(\"Confidence Score:\", confidence)\n"
      ],
      "metadata": {
        "id": "eAD9nRTvJJhH"
      },
      "execution_count": null,
      "outputs": []
    },
    {
      "cell_type": "code",
      "source": [
        "! python3 app.py"
      ],
      "metadata": {
        "id": "wBd-SLwHSpaE"
      },
      "execution_count": null,
      "outputs": []
    }
  ]
}